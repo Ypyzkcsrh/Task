{
 "cells": [
  {
   "cell_type": "code",
   "execution_count": 3,
   "id": "18a0c175-8ef4-454b-b672-5cadcc96f9e9",
   "metadata": {},
   "outputs": [
    {
     "name": "stdout",
     "output_type": "stream",
     "text": [
      "Initialize the Random Forest classifier is done\n",
      "Training time: 261.5734317302704 seconds\n",
      "Prediction time: 4.243096113204956 seconds\n",
      "Accuracy calculation time: 0.03818988800048828 seconds\n",
      "Accuracy: 0.99753112634263\n"
     ]
    },
    {
     "data": {
      "text/plain": [
       "['model.pkl']"
      ]
     },
     "execution_count": 3,
     "metadata": {},
     "output_type": "execute_result"
    }
   ],
   "source": [
    "import pandas as pd\n",
    "from sklearn.model_selection import train_test_split\n",
    "from sklearn.feature_selection import SelectKBest, chi2\n",
    "from sklearn.ensemble import RandomForestClassifier\n",
    "from sklearn.preprocessing import OneHotEncoder\n",
    "from sklearn.compose import ColumnTransformer\n",
    "from sklearn.pipeline import Pipeline\n",
    "from sklearn.preprocessing import LabelEncoder\n",
    "import numpy as np\n",
    "from scipy.sparse import csc_matrix\n",
    "import joblib\n",
    "from sklearn.preprocessing import StandardScaler, MinMaxScaler\n",
    "import time\n",
    "from sklearn.ensemble import RandomForestClassifier\n",
    "from sklearn.model_selection import train_test_split\n",
    "from sklearn.metrics import accuracy_score\n",
    "\n",
    "\n",
    "\n",
    "# Load the dataset\n",
    "dfTrain = pd.read_csv('C:/Users/ahmad/Desktop/hi/fraudTrain.csv')  # Assuming you've downloaded the dataset from Kaggle\n",
    "dfTest = pd.read_csv('C:/Users/ahmad/Desktop/hi/fraudTest.csv')  # Assuming you've downloaded the dataset from Kaggle\n",
    "%run \"C:\\Users\\ahmad\\Desktop\\hi\\Preprocessing.ipynb\"\n",
    "X_train,X_test,y_train,y_test=preprocess_data(dfTrain, dfTest)\n",
    "\n",
    "\n",
    "# Initialize the Random Forest classifier\n",
    "rf_classifier = RandomForestClassifier(n_estimators=100, random_state=42)\n",
    "print(\"Initialize the Random Forest classifier is done\")\n",
    "# Train the classifier on the training data\n",
    "start_time = time.time()\n",
    "rf_classifier.fit(X_train, y_train)\n",
    "print(f\"Training time: {time.time() - start_time} seconds\")\n",
    "\n",
    "# Predict on the testing data\n",
    "start_time = time.time()\n",
    "y_pred = rf_classifier.predict(X_test)\n",
    "print(f\"Prediction time: {time.time() - start_time} seconds\")\n",
    "\n",
    "# Calculate accuracy\n",
    "start_time = time.time()\n",
    "accuracy = accuracy_score(y_test, y_pred)\n",
    "print(f\"Accuracy calculation time: {time.time() - start_time} seconds\")\n",
    "print(\"Accuracy:\", accuracy)\n",
    "joblib.dump(rf_classifier, 'model.pkl')\n",
    "\n",
    "\n"
   ]
  },
  {
   "cell_type": "code",
   "execution_count": null,
   "id": "8babd9eb-9658-4371-a0eb-e705a4edc341",
   "metadata": {},
   "outputs": [],
   "source": []
  }
 ],
 "metadata": {
  "kernelspec": {
   "display_name": "Python 3 (ipykernel)",
   "language": "python",
   "name": "python3"
  },
  "language_info": {
   "codemirror_mode": {
    "name": "ipython",
    "version": 3
   },
   "file_extension": ".py",
   "mimetype": "text/x-python",
   "name": "python",
   "nbconvert_exporter": "python",
   "pygments_lexer": "ipython3",
   "version": "3.12.1"
  }
 },
 "nbformat": 4,
 "nbformat_minor": 5
}
